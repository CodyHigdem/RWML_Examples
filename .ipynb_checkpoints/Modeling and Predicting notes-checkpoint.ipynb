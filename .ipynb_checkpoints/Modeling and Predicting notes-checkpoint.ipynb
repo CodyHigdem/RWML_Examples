{
 "cells": [
  {
   "cell_type": "markdown",
   "metadata": {},
   "source": [
    "\n",
    "### Parametric methods\n",
    "The simplest example of a parametric approach is linear regression. In linear regression, f is assumed to be a linear combination of the numerical values of the inputs.\n",
    "\n",
    "logistic regression\n",
    "linear regression\n",
    "polynomial regression\n",
    "naive bayes\n",
    "\n",
    "Drawback is strong assumptions about the true form of the function. Which with real world data makes it hard to actually fit. \n",
    "\n",
    "### nonparametric methods\n",
    "\n",
    "a classification tree is a good example of a nonparametric methods. The depths and complexity of the data isn't fixed based on an assumed function/plot. \n",
    "\n",
    "k-nearest neighbor\n",
    "splines\n",
    "basis expansion method\n",
    "kernel smoothing\n",
    "neural nets\n",
    "bagging\n",
    "random forest\n",
    "support vector machiens\n",
    "\n",
    "### supervised vs unsupervised\n",
    "\n",
    "unsupervised is where there's no identified target variale. supervised you have a large data set and the target variable is known. \n",
    "\n",
    "\n",
    "#### unsupervised learning sets\n",
    "\n",
    "clustering:\n",
    "attempting to find natural groupings/cohorts of data points. k-means for example.\n",
    "\n",
    "dimensionality reduction:\n",
    "transforming most of the input features into smaller numbers to identify variability in data. principle component analysis and manifold learning come to mind. \n",
    "\n",
    "#### supervised learning sets\n",
    "\n",
    "\n"
   ]
  },
  {
   "cell_type": "code",
   "execution_count": null,
   "metadata": {
    "collapsed": true
   },
   "outputs": [],
   "source": []
  }
 ],
 "metadata": {
  "kernelspec": {
   "display_name": "Python 2",
   "language": "python",
   "name": "python2"
  },
  "language_info": {
   "codemirror_mode": {
    "name": "ipython",
    "version": 2
   },
   "file_extension": ".py",
   "mimetype": "text/x-python",
   "name": "python",
   "nbconvert_exporter": "python",
   "pygments_lexer": "ipython2",
   "version": "2.7.12"
  }
 },
 "nbformat": 4,
 "nbformat_minor": 0
}
