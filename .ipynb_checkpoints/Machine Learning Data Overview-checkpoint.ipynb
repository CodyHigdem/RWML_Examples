{
 "cells": [
  {
   "cell_type": "markdown",
   "metadata": {},
   "source": [
    "## Data Collection and Features\n",
    "\n",
    "Which input features should I include?\n",
    "How do I obtain known values of my target variable?\n",
    "How much training data do I need?\n",
    "How do I know if my training data is good enough?\n",
    "\n",
    "\n",
    "### How much training data is needed?\n",
    "\n",
    "The complexity of the problem. Does the relationship between the input features and target variable follow a simple pattern, or is it complex and nonlinear?\n",
    "The requirements for accuracy. If you require only a 60% success rate for your problem, less training data is required than if you need to achieve a 95% success rate.\n",
    "The dimensionality of the feature space. If only two input features are available, less training data will be required than if there were 2,000 features.\n",
    "\n",
    "Generally as a data set grows the accuracy does too\n",
    "\n",
    "### Is the training data representative?\n",
    "\n",
    "It was possible to obtain ground truth for the target variable for only a certain, biased subsample of data. For example, if instances of fraud in your historical data were detected only if they cost the company more than $1,000, then a model trained on that data will have difficulty identifying cases of fraud that result in losses less than $1,000.\n",
    "\n",
    "The properties of the instances have changed over time. For example, if your training example consists of historical data on medical insurance fraud, but new laws have substantially changed the ways in which medical insurers must conduct their business, then your predictions on the new data may not be appropriate.\n",
    "The input feature set has changed over time. For example, say the set of location attributes that you collect on each customer has changed; you used to collect ZIP code and state, but now collect IP address. This change may require you to modify the feature set used for the model and potentially discard old data from the training set.\n",
    "\n",
    "### Categorical data features\n",
    "\n",
    "You can encode categories with a number set however you'll have to worry then about arbitrary adjustments for example. Male-Female categories would be encoded as 1,0 generally. You can make the data breakout into two seperate categories. \n",
    "Male and Female. That way 1 is \"true\" and 0 is \"false\". \n",
    "\n",
    "Male | Female\n",
    "1 | 0\n",
    "0 | 1\n",
    "\n",
    "\n",
    "so on"
   ]
  },
  {
   "cell_type": "code",
   "execution_count": 1,
   "metadata": {
    "collapsed": true
   },
   "outputs": [],
   "source": [
    "#eample of category name to number\n",
    "def cat_to_num(data):\n",
    "    categories = unique(data)\n",
    "    features = []\n",
    "    for cat in categories:\n",
    "        binary = (data == cat)\n",
    "        features.append(binary.astype(\"int\"))\n",
    "    return features"
   ]
  },
  {
   "cell_type": "markdown",
   "metadata": {
    "collapsed": true
   },
   "source": [
    "### Dealing with missing data\n",
    "\n",
    "Missing data that by being missing makes it meaningful\n",
    "\n",
    "Inputation\n",
    "\n"
   ]
  },
  {
   "cell_type": "code",
   "execution_count": 1,
   "metadata": {
    "collapsed": true
   },
   "outputs": [],
   "source": [
    "#feature extraction example using 'titanic data set'\n",
    "\n",
    "def cabin_features(data):\n",
    "    features = []\n",
    "    for cabin in data:\n",
    "        cabins = cabin.split(\" \")\n",
    "        n_cabins = len(cabins)\n",
    "        # First char is the cabin_char\n",
    "        try:\n",
    "            cabin_char = cabins[0][0]\n",
    "        except IndexError:\n",
    "            cabin_char = \"X\"\n",
    "            n_cabins = 0\n",
    "        # The rest is the cabin number\n",
    "        try:\n",
    "            cabin_num = int(cabins[0][1:]) \n",
    "        except:\n",
    "            cabin_num = -1\n",
    "        # Add 3 features for each passanger\n",
    "        features.append( [cabin_char, cabin_num, n_cabins] )\n",
    "    return features"
   ]
  },
  {
   "cell_type": "markdown",
   "metadata": {},
   "source": [
    "#### Feature engineering\n",
    "\n",
    "using the existing features to create new features that increase the value of the original data. \n",
    "\n",
    "#### Data normalization"
   ]
  }
 ],
 "metadata": {
  "kernelspec": {
   "display_name": "Python 2",
   "language": "python",
   "name": "python2"
  },
  "language_info": {
   "codemirror_mode": {
    "name": "ipython",
    "version": 2
   },
   "file_extension": ".py",
   "mimetype": "text/x-python",
   "name": "python",
   "nbconvert_exporter": "python",
   "pygments_lexer": "ipython2",
   "version": "2.7.12"
  }
 },
 "nbformat": 4,
 "nbformat_minor": 0
}
