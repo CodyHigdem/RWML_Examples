{
 "cells": [
  {
   "cell_type": "markdown",
   "metadata": {},
   "source": [
    "\n",
    "Predicting accuracy is about testing models on new data instead of old. \n",
    "\n",
    "#### cross-validation\n",
    "\n",
    "##### holdout method\n",
    "use the same data to both fit and evaluate models produces optimistic accuracies. The simplest way is to seperate training and testing data sets. You use the training subset to fit the model where you use the testing subset to evaluate it. \n",
    "\n",
    "It's common to leave anywhere from 20 to 40% for testing. \n",
    "\n"
   ]
  }
 ],
 "metadata": {
  "kernelspec": {
   "display_name": "Python 2",
   "language": "python",
   "name": "python2"
  },
  "language_info": {
   "codemirror_mode": {
    "name": "ipython",
    "version": 2
   },
   "file_extension": ".py",
   "mimetype": "text/x-python",
   "name": "python",
   "nbconvert_exporter": "python",
   "pygments_lexer": "ipython2",
   "version": "2.7.12"
  }
 },
 "nbformat": 4,
 "nbformat_minor": 0
}
